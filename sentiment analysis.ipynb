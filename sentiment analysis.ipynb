{
 "cells": [
  {
   "cell_type": "code",
   "execution_count": 1,
   "id": "5c5db204-76cf-4cd4-a6b1-4a312b0118b7",
   "metadata": {},
   "outputs": [],
   "source": [
    "import numpy as np\n",
    "import pandas as pd\n",
    "import tensorflow as tf\n",
    "from tensorflow.keras.preprocessing.text import Tokenizer\n",
    "from tensorflow.keras.preprocessing.sequence import pad_sequences\n",
    "from tensorflow.keras.models import Sequential\n",
    "from tensorflow.keras.layers import Embedding, LSTM, Dense"
   ]
  },
  {
   "cell_type": "code",
   "execution_count": 10,
   "id": "957e6e7d-982e-4555-af3a-818679dd76d3",
   "metadata": {},
   "outputs": [],
   "source": [
    "data = pd.read_csv('IMDB Dataset.csv')"
   ]
  },
  {
   "cell_type": "code",
   "execution_count": 11,
   "id": "ad592e9b-3a1e-4f8b-850b-f19a0b6c5624",
   "metadata": {},
   "outputs": [
    {
     "data": {
      "text/html": [
       "<div>\n",
       "<style scoped>\n",
       "    .dataframe tbody tr th:only-of-type {\n",
       "        vertical-align: middle;\n",
       "    }\n",
       "\n",
       "    .dataframe tbody tr th {\n",
       "        vertical-align: top;\n",
       "    }\n",
       "\n",
       "    .dataframe thead th {\n",
       "        text-align: right;\n",
       "    }\n",
       "</style>\n",
       "<table border=\"1\" class=\"dataframe\">\n",
       "  <thead>\n",
       "    <tr style=\"text-align: right;\">\n",
       "      <th></th>\n",
       "      <th>review</th>\n",
       "      <th>sentiment</th>\n",
       "    </tr>\n",
       "  </thead>\n",
       "  <tbody>\n",
       "    <tr>\n",
       "      <th>0</th>\n",
       "      <td>One of the other reviewers has mentioned that ...</td>\n",
       "      <td>positive</td>\n",
       "    </tr>\n",
       "    <tr>\n",
       "      <th>1</th>\n",
       "      <td>A wonderful little production. &lt;br /&gt;&lt;br /&gt;The...</td>\n",
       "      <td>positive</td>\n",
       "    </tr>\n",
       "    <tr>\n",
       "      <th>2</th>\n",
       "      <td>I thought this was a wonderful way to spend ti...</td>\n",
       "      <td>positive</td>\n",
       "    </tr>\n",
       "    <tr>\n",
       "      <th>3</th>\n",
       "      <td>Basically there's a family where a little boy ...</td>\n",
       "      <td>negative</td>\n",
       "    </tr>\n",
       "    <tr>\n",
       "      <th>4</th>\n",
       "      <td>Petter Mattei's \"Love in the Time of Money\" is...</td>\n",
       "      <td>positive</td>\n",
       "    </tr>\n",
       "    <tr>\n",
       "      <th>5</th>\n",
       "      <td>Probably my all-time favorite movie, a story o...</td>\n",
       "      <td>positive</td>\n",
       "    </tr>\n",
       "  </tbody>\n",
       "</table>\n",
       "</div>"
      ],
      "text/plain": [
       "                                              review sentiment\n",
       "0  One of the other reviewers has mentioned that ...  positive\n",
       "1  A wonderful little production. <br /><br />The...  positive\n",
       "2  I thought this was a wonderful way to spend ti...  positive\n",
       "3  Basically there's a family where a little boy ...  negative\n",
       "4  Petter Mattei's \"Love in the Time of Money\" is...  positive\n",
       "5  Probably my all-time favorite movie, a story o...  positive"
      ]
     },
     "execution_count": 11,
     "metadata": {},
     "output_type": "execute_result"
    }
   ],
   "source": [
    "data.head(6)"
   ]
  },
  {
   "cell_type": "code",
   "execution_count": 12,
   "id": "9f838051-a777-40ef-9020-b366ff4c2b2b",
   "metadata": {},
   "outputs": [
    {
     "data": {
      "text/plain": [
       "(50000, 2)"
      ]
     },
     "execution_count": 12,
     "metadata": {},
     "output_type": "execute_result"
    }
   ],
   "source": [
    "data.shape"
   ]
  },
  {
   "cell_type": "code",
   "execution_count": 14,
   "id": "edaa4185-8b96-4266-8afe-5d1312e62764",
   "metadata": {},
   "outputs": [
    {
     "data": {
      "text/plain": [
       "sentiment\n",
       "positive    25000\n",
       "negative    25000\n",
       "Name: count, dtype: int64"
      ]
     },
     "execution_count": 14,
     "metadata": {},
     "output_type": "execute_result"
    }
   ],
   "source": [
    "data.sentiment.value_counts()"
   ]
  },
  {
   "cell_type": "code",
   "execution_count": 15,
   "id": "742834d5-cb3c-4631-98f8-e12771c57369",
   "metadata": {},
   "outputs": [
    {
     "data": {
      "text/plain": [
       "review       0\n",
       "sentiment    0\n",
       "dtype: int64"
      ]
     },
     "execution_count": 15,
     "metadata": {},
     "output_type": "execute_result"
    }
   ],
   "source": [
    "data.isna().sum()"
   ]
  },
  {
   "cell_type": "code",
   "execution_count": 16,
   "id": "e4758c17-5f56-47c0-bae4-6bc3a6020f4f",
   "metadata": {},
   "outputs": [],
   "source": [
    "# Example (basic preprocessing, more advanced techniques might be needed)\n",
    "tokenizer = Tokenizer(num_words=5000)\n",
    "tokenizer.fit_on_texts(data['review'])\n",
    "sequences = tokenizer.texts_to_sequences(data['review'])\n",
    "padded_sequences = pad_sequences(sequences, maxlen=100)"
   ]
  },
  {
   "cell_type": "code",
   "execution_count": 17,
   "id": "3be0d35b-e3f1-4440-b73a-55b75fc21431",
   "metadata": {},
   "outputs": [],
   "source": [
    "def convert_sentiment(sentiment):\n",
    "    if sentiment == 'positive':\n",
    "        return 1\n",
    "    else:\n",
    "        return 0\n",
    "\n",
    "data['sentiment'] = data['sentiment'].apply(convert_sentiment)"
   ]
  },
  {
   "cell_type": "code",
   "execution_count": 18,
   "id": "339f40f6-7480-47fd-9bd6-82488cb0e52a",
   "metadata": {},
   "outputs": [],
   "source": [
    "from sklearn.model_selection import train_test_split\n",
    "X_train, X_test, y_train, y_test = train_test_split(padded_sequences, data['sentiment'], test_size=0.2)"
   ]
  },
  {
   "cell_type": "code",
   "execution_count": 19,
   "id": "2376a130-1322-4caf-9c91-59401bafb1ff",
   "metadata": {},
   "outputs": [],
   "source": [
    "model = Sequential([\n",
    "    Embedding(5000, 64),\n",
    "    #num of neurn in layer64\n",
    "    LSTM(64),\n",
    "    Dense(1, activation='sigmoid')\n",
    "])\n",
    "\n",
    "model.compile(loss='binary_crossentropy', optimizer='adam', metrics=['accuracy'])"
   ]
  },
  {
   "cell_type": "code",
   "execution_count": 20,
   "id": "bffafe2e-90fd-4275-b2c4-e24d7d37ba3a",
   "metadata": {},
   "outputs": [
    {
     "name": "stdout",
     "output_type": "stream",
     "text": [
      "Epoch 1/10\n",
      "1250/1250 [==============================] - 87s 68ms/step - loss: 0.3837 - accuracy: 0.8253 - val_loss: 0.3331 - val_accuracy: 0.8558\n",
      "Epoch 2/10\n",
      "1250/1250 [==============================] - 108s 86ms/step - loss: 0.2840 - accuracy: 0.8820 - val_loss: 0.3177 - val_accuracy: 0.8595\n",
      "Epoch 3/10\n",
      "1250/1250 [==============================] - 85s 68ms/step - loss: 0.2367 - accuracy: 0.9032 - val_loss: 0.3114 - val_accuracy: 0.8671\n",
      "Epoch 4/10\n",
      "1250/1250 [==============================] - 85s 68ms/step - loss: 0.1983 - accuracy: 0.9205 - val_loss: 0.3272 - val_accuracy: 0.8683\n",
      "Epoch 5/10\n",
      "1250/1250 [==============================] - 94s 76ms/step - loss: 0.1636 - accuracy: 0.9359 - val_loss: 0.3543 - val_accuracy: 0.8635\n",
      "Epoch 6/10\n",
      "1250/1250 [==============================] - 112s 90ms/step - loss: 0.1378 - accuracy: 0.9478 - val_loss: 0.4139 - val_accuracy: 0.8580\n",
      "Epoch 7/10\n",
      "1250/1250 [==============================] - 87s 70ms/step - loss: 0.1143 - accuracy: 0.9573 - val_loss: 0.4249 - val_accuracy: 0.8558\n",
      "Epoch 8/10\n",
      "1250/1250 [==============================] - 98s 78ms/step - loss: 0.0904 - accuracy: 0.9672 - val_loss: 0.4888 - val_accuracy: 0.8544\n",
      "Epoch 9/10\n",
      "1250/1250 [==============================] - 114s 91ms/step - loss: 0.0749 - accuracy: 0.9736 - val_loss: 0.6246 - val_accuracy: 0.8608\n",
      "Epoch 10/10\n",
      "1250/1250 [==============================] - 114s 91ms/step - loss: 0.0623 - accuracy: 0.9785 - val_loss: 0.5650 - val_accuracy: 0.8518\n"
     ]
    },
    {
     "data": {
      "text/plain": [
       "<keras.src.callbacks.History at 0x166b58f9750>"
      ]
     },
     "execution_count": 20,
     "metadata": {},
     "output_type": "execute_result"
    }
   ],
   "source": [
    "model.fit(X_train, y_train, epochs=10, batch_size=32, validation_data=(X_test, y_test))"
   ]
  },
  {
   "cell_type": "code",
   "execution_count": 21,
   "id": "2ba90688-38fe-458d-92e4-4e894fd5cd70",
   "metadata": {},
   "outputs": [
    {
     "name": "stdout",
     "output_type": "stream",
     "text": [
      "313/313 [==============================] - 7s 23ms/step - loss: 0.5650 - accuracy: 0.8518\n",
      "Accuracy: 0.8518000245094299\n"
     ]
    }
   ],
   "source": [
    "loss, accuracy = model.evaluate(X_test, y_test)\n",
    "print('Accuracy:', accuracy)"
   ]
  },
  {
   "cell_type": "code",
   "execution_count": 22,
   "id": "4934ed7f-d8a3-4651-8814-2d8447a6d9a9",
   "metadata": {},
   "outputs": [],
   "source": [
    "import numpy as np\n",
    "from sklearn.metrics import confusion_matrix, classification_report\n",
    "import matplotlib.pyplot as plt\n",
    "import seaborn as sns"
   ]
  },
  {
   "cell_type": "code",
   "execution_count": 23,
   "id": "9fd96b39-d690-4175-ab9c-2d8e8429cf6f",
   "metadata": {},
   "outputs": [
    {
     "name": "stdout",
     "output_type": "stream",
     "text": [
      "313/313 [==============================] - 8s 24ms/step\n"
     ]
    }
   ],
   "source": [
    "y_pred = model.predict(X_test)\n",
    "# Convert probabilities to class labels (for classification tasks)\n",
    "y_pred_classes = np.argmax(y_pred, axis=1)"
   ]
  },
  {
   "cell_type": "code",
   "execution_count": 24,
   "id": "3ba44402-db48-4e9d-8ad6-92ac5dab1e59",
   "metadata": {},
   "outputs": [],
   "source": [
    "conf_matrix = confusion_matrix(y_test, y_pred_classes)"
   ]
  },
  {
   "cell_type": "code",
   "execution_count": 25,
   "id": "3fc38574-57e5-4911-915f-6b4a654a6396",
   "metadata": {},
   "outputs": [
    {
     "data": {
      "image/png": "[encoded data removed]",
      "text/plain": [
       "<Figure size 800x600 with 2 Axes>"
      ]
     },
     "metadata": {},
     "output_type": "display_data"
    }
   ],
   "source": [
    "plt.figure(figsize=(8, 6))\n",
    "sns.heatmap(conf_matrix, annot=True, fmt='d', cmap='Blues')\n",
    "plt.xlabel('Predicted')\n",
    "plt.ylabel('True')\n",
    "plt.title('Confusion Matrix')\n",
    "plt.show() "
   ]
  },
  {
   "cell_type": "code",
   "execution_count": 26,
   "id": "4c8407fd-a041-422a-aff5-ee1c80fceaca",
   "metadata": {},
   "outputs": [
    {
     "name": "stdout",
     "output_type": "stream",
     "text": [
      "              precision    recall  f1-score   support\n",
      "\n",
      "           0       0.49      1.00      0.66      4949\n",
      "           1       0.00      0.00      0.00      5051\n",
      "\n",
      "    accuracy                           0.49     10000\n",
      "   macro avg       0.25      0.50      0.33     10000\n",
      "weighted avg       0.24      0.49      0.33     10000\n",
      "\n"
     ]
    },
    {
     "name": "stderr",
     "output_type": "stream",
     "text": [
      "C:\\Users\\Nikhil Kumar Jha\\AppData\\Roaming\\Python\\Python311\\site-packages\\sklearn\\metrics\\_classification.py:1469: UndefinedMetricWarning: Precision and F-score are ill-defined and being set to 0.0 in labels with no predicted samples. Use `zero_division` parameter to control this behavior.\n",
      "  _warn_prf(average, modifier, msg_start, len(result))\n",
      "C:\\Users\\Nikhil Kumar Jha\\AppData\\Roaming\\Python\\Python311\\site-packages\\sklearn\\metrics\\_classification.py:1469: UndefinedMetricWarning: Precision and F-score are ill-defined and being set to 0.0 in labels with no predicted samples. Use `zero_division` parameter to control this behavior.\n",
      "  _warn_prf(average, modifier, msg_start, len(result))\n",
      "C:\\Users\\Nikhil Kumar Jha\\AppData\\Roaming\\Python\\Python311\\site-packages\\sklearn\\metrics\\_classification.py:1469: UndefinedMetricWarning: Precision and F-score are ill-defined and being set to 0.0 in labels with no predicted samples. Use `zero_division` parameter to control this behavior.\n",
      "  _warn_prf(average, modifier, msg_start, len(result))\n"
     ]
    }
   ],
   "source": [
    "print(classification_report(y_test, y_pred_classes))"
   ]
  },
  {
   "cell_type": "code",
   "execution_count": 27,
   "id": "2e90627e-777b-44de-a063-23aff27026a3",
   "metadata": {},
   "outputs": [],
   "source": [
    "from keras.layers import SimpleRNN\n",
    "\n",
    "modelR = Sequential([\n",
    "  Embedding(5000, 64),\n",
    "  SimpleRNN(64),\n",
    "  Dense(1, activation='sigmoid')\n",
    "])\n",
    "\n",
    "modelR.compile(loss='binary_crossentropy', optimizer='adam', metrics=['accuracy'])"
   ]
  },
  {
   "cell_type": "code",
   "execution_count": 28,
   "id": "995f21f3-7720-4b4c-8bd4-f03bdb18db62",
   "metadata": {},
   "outputs": [
    {
     "name": "stdout",
     "output_type": "stream",
     "text": [
      "Epoch 1/10\n",
      "1250/1250 [==============================] - 57s 44ms/step - loss: 0.4925 - accuracy: 0.7487 - val_loss: 0.3607 - val_accuracy: 0.8460\n",
      "Epoch 2/10\n",
      "1250/1250 [==============================] - 46s 37ms/step - loss: 0.3691 - accuracy: 0.8439 - val_loss: 0.3863 - val_accuracy: 0.8348\n",
      "Epoch 3/10\n",
      "1250/1250 [==============================] - 52s 42ms/step - loss: 0.3570 - accuracy: 0.8428 - val_loss: 0.6186 - val_accuracy: 0.6466\n",
      "Epoch 4/10\n",
      "1250/1250 [==============================] - 47s 38ms/step - loss: 0.3889 - accuracy: 0.8259 - val_loss: 0.4219 - val_accuracy: 0.8243\n",
      "Epoch 5/10\n",
      "1250/1250 [==============================] - 47s 38ms/step - loss: 0.2985 - accuracy: 0.8796 - val_loss: 0.4070 - val_accuracy: 0.8241\n",
      "Epoch 6/10\n",
      "1250/1250 [==============================] - 48s 39ms/step - loss: 0.3501 - accuracy: 0.8418 - val_loss: 0.5910 - val_accuracy: 0.6740\n",
      "Epoch 7/10\n",
      "1250/1250 [==============================] - 59s 47ms/step - loss: 0.4462 - accuracy: 0.7846 - val_loss: 0.5397 - val_accuracy: 0.7365\n",
      "Epoch 8/10\n",
      "1250/1250 [==============================] - 64s 51ms/step - loss: 0.3675 - accuracy: 0.8410 - val_loss: 0.7466 - val_accuracy: 0.6949\n",
      "Epoch 9/10\n",
      "1250/1250 [==============================] - 49s 40ms/step - loss: 0.4799 - accuracy: 0.7673 - val_loss: 0.6249 - val_accuracy: 0.6452\n",
      "Epoch 10/10\n",
      "1250/1250 [==============================] - 48s 38ms/step - loss: 0.5283 - accuracy: 0.7249 - val_loss: 0.6198 - val_accuracy: 0.6628\n"
     ]
    },
    {
     "data": {
      "text/plain": [
       "<keras.src.callbacks.History at 0x166c7552d90>"
      ]
     },
     "execution_count": 28,
     "metadata": {},
     "output_type": "execute_result"
    }
   ],
   "source": [
    "modelR.fit(X_train, y_train, epochs=10, batch_size=32, validation_data=(X_test, y_test))"
   ]
  },
  {
   "cell_type": "code",
   "execution_count": 29,
   "id": "f1c504c8-0e62-4457-8330-56d19f4737f7",
   "metadata": {},
   "outputs": [
    {
     "name": "stdout",
     "output_type": "stream",
     "text": [
      "313/313 [==============================] - 9s 29ms/step\n"
     ]
    }
   ],
   "source": [
    "y_pred = model.predict(X_test)\n",
    "# Convert probabilities to class labels (for classification tasks)\n",
    "y_pred_classes = np.argmax(y_pred, axis=1)"
   ]
  },
  {
   "cell_type": "code",
   "execution_count": 30,
   "id": "abb396f6-8601-4d11-9568-647a125ce817",
   "metadata": {},
   "outputs": [
    {
     "data": {
      "image/png": "[encoded data removed]",
      "text/plain": [
       "<Figure size 800x600 with 2 Axes>"
      ]
     },
     "metadata": {},
     "output_type": "display_data"
    }
   ],
   "source": [
    "conf_matrix = confusion_matrix(y_test, y_pred_classes)\n",
    "plt.figure(figsize=(8, 6))\n",
    "sns.heatmap(conf_matrix, annot=True, fmt='d', cmap='Blues')\n",
    "plt.xlabel('Predicted')\n",
    "plt.ylabel('True')\n",
    "plt.title('Confusion Matrix')\n",
    "plt.show() "
   ]
  },
  {
   "cell_type": "code",
   "execution_count": 31,
   "id": "8853a3a4-8a21-41a7-90b4-06c8e1d76185",
   "metadata": {},
   "outputs": [
    {
     "name": "stdout",
     "output_type": "stream",
     "text": [
      "              precision    recall  f1-score   support\n",
      "\n",
      "           0       0.49      1.00      0.66      4949\n",
      "           1       0.00      0.00      0.00      5051\n",
      "\n",
      "    accuracy                           0.49     10000\n",
      "   macro avg       0.25      0.50      0.33     10000\n",
      "weighted avg       0.24      0.49      0.33     10000\n",
      "\n"
     ]
    },
    {
     "name": "stderr",
     "output_type": "stream",
     "text": [
      "C:\\Users\\Nikhil Kumar Jha\\AppData\\Roaming\\Python\\Python311\\site-packages\\sklearn\\metrics\\_classification.py:1469: UndefinedMetricWarning: Precision and F-score are ill-defined and being set to 0.0 in labels with no predicted samples. Use `zero_division` parameter to control this behavior.\n",
      "  _warn_prf(average, modifier, msg_start, len(result))\n",
      "C:\\Users\\Nikhil Kumar Jha\\AppData\\Roaming\\Python\\Python311\\site-packages\\sklearn\\metrics\\_classification.py:1469: UndefinedMetricWarning: Precision and F-score are ill-defined and being set to 0.0 in labels with no predicted samples. Use `zero_division` parameter to control this behavior.\n",
      "  _warn_prf(average, modifier, msg_start, len(result))\n",
      "C:\\Users\\Nikhil Kumar Jha\\AppData\\Roaming\\Python\\Python311\\site-packages\\sklearn\\metrics\\_classification.py:1469: UndefinedMetricWarning: Precision and F-score are ill-defined and being set to 0.0 in labels with no predicted samples. Use `zero_division` parameter to control this behavior.\n",
      "  _warn_prf(average, modifier, msg_start, len(result))\n"
     ]
    }
   ],
   "source": [
    "print(classification_report(y_test, y_pred_classes))"
   ]
  },
  {
   "cell_type": "code",
   "execution_count": null,
   "id": "de479945-8b91-4846-81ef-3bb3ce6d66ce",
   "metadata": {},
   "outputs": [],
   "source": []
  }
 ],
 "metadata": {
  "kernelspec": {
   "display_name": "Python 3 (ipykernel)",
   "language": "python",
   "name": "python3"
  },
  "language_info": {
   "codemirror_mode": {
    "name": "ipython",
    "version": 3
   },
   "file_extension": ".py",
   "mimetype": "text/x-python",
   "name": "python",
   "nbconvert_exporter": "python",
   "pygments_lexer": "ipython3",
   "version": "3.11.3"
  }
 },
 "nbformat": 4,
 "nbformat_minor": 5
}
